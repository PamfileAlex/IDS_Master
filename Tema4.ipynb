{
 "cells": [
  {
   "cell_type": "markdown",
   "metadata": {},
   "source": [
    "# Tema 4 - Pamfile Alex"
   ]
  },
  {
   "cell_type": "markdown",
   "metadata": {},
   "source": [
    "## Laborator 5: Jupyter lab, ipywidgets\n",
    "\n",
    "### Exercitii:\n",
    "\n",
    "1. Reprezentati functia $\\sin(k\\cdot x) \\cos(x)$ si derivata ei intr-un punct ales de catre utilizator; $k$ este de asemenea un punct ales de utilizator. Pentru calculul derivatei puteti folosi formula analitica sau biblioteca [autograd](https://github.com/HIPS/autograd).\n",
    "1. Incarcati fisierul de date [Abalone](http://archive.ics.uci.edu/ml/datasets/Abalone) si in functie de alegerile exprimate de un utilizator in controale de tip dropdown, afisati intr-un grafic 2D coloanele numerice alese. Numele coloanelor se gasesc in fisierul `abalone.names`.\n",
    "1. Folosind un API pentru date legate de vreme (vedeti o lista de API-uri ce se pot utiliza gratuit [aici](https://rapidapi.com/blog/access-global-weather-data-with-these-weather-apis/#:~:text=What%20is%20a%20Weather%20API,weather%20forecast%20and%20historical%20information.)), creati o interfata in Jupyter notebook sau Jupyterlab, folosind ipywidgets, in care sa expuneti valori preluate din API. Definiti controale adecvate, in functie de parametrii de apel permisi de API. "
   ]
  },
  {
   "cell_type": "code",
   "execution_count": 1,
   "metadata": {},
   "outputs": [],
   "source": [
    "# # THIS IS NEEDED FOR JUPYTERLITE\n",
    "# import piplite\n",
    "# await piplite.install([\"ipywidgets\"])\n",
    "# await piplite.install([\"requests\"])"
   ]
  },
  {
   "cell_type": "code",
   "execution_count": 2,
   "metadata": {},
   "outputs": [
    {
     "name": "stdout",
     "output_type": "stream",
     "text": [
      "matplotlib.__version__: 3.5.2\n",
      "numpy.__version__: 1.21.5\n"
     ]
    }
   ],
   "source": [
    "import ipywidgets as widgets\n",
    "from ipywidgets import interact, interactive, fixed, interact_manual\n",
    "import math\n",
    "\n",
    "import matplotlib.pyplot as plt\n",
    "import matplotlib\n",
    "import numpy as np\n",
    "import pandas as pd\n",
    "from typing import List, Tuple\n",
    "\n",
    "print(f'matplotlib.__version__: {matplotlib.__version__}')\n",
    "print(f'numpy.__version__: {np.__version__}')"
   ]
  },
  {
   "cell_type": "markdown",
   "metadata": {},
   "source": [
    "1. Reprezentati functia $\\sin(k\\cdot x) \\cos(x)$ si derivata ei intr-un punct ales de catre utilizator; $k$ este de asemenea un punct ales de utilizator. Pentru calculul derivatei puteti folosi formula analitica sau biblioteca [autograd](https://github.com/HIPS/autograd)."
   ]
  },
  {
   "cell_type": "code",
   "execution_count": 3,
   "metadata": {},
   "outputs": [
    {
     "data": {
      "application/vnd.jupyter.widget-view+json": {
       "model_id": "b52630cebad145ba8ac85d9560b1013d",
       "version_major": 2,
       "version_minor": 0
      },
      "text/plain": [
       "interactive(children=(FloatSlider(value=-100.0, description='min_x', min=-100.0), FloatSlider(value=100.0, des…"
      ]
     },
     "metadata": {},
     "output_type": "display_data"
    }
   ],
   "source": [
    "def f(x:int, k:int) -> float:\n",
    "    \"\"\"\n",
    "    Function that represents sin(k * x) * cos(x)\n",
    "    :param x: int, first parameter\n",
    "    :param k: int, second parameter\n",
    "    :returns: calculated result for function\n",
    "    \"\"\"\n",
    "    return np.sin(k * x) * np.cos(x)\n",
    "\n",
    "def f_derivative(x:int, k:int) -> float:\n",
    "    \"\"\"\n",
    "    Function that represents derivative of f\n",
    "    :param x: int, first parameter\n",
    "    :param k: int, second parameter\n",
    "    :returns: calculated result for derivative function\n",
    "    \"\"\"\n",
    "    return k * np.cos(x) * np.cos(x * k) - np.sin(x) * np.sin(x *k)\n",
    "\n",
    "def plot_f_and_f_der(min_x:float = -100, max_x:float = 100, k:float = 0):\n",
    "    \"\"\"\n",
    "    Plots the function f and its derivative based on a range given by user\n",
    "    :param min_x: int, lower bound of range for x\n",
    "    :param max_x: int, upper bound of range for x\n",
    "    :param k: int, input parameter\n",
    "    :returns: nothing\n",
    "    \"\"\"\n",
    "    assert min_x < max_x\n",
    "    range_x:np.array = np.linspace(min_x, max_x, 100)\n",
    "    values_f:np.array = f(range_x, k)\n",
    "    values_d:np.array = f_derivative(range_x, k)\n",
    "    plt.figure(figsize=(8, 6))\n",
    "    plt.xlabel('x')\n",
    "    plt.ylabel('functions')\n",
    "    plt.plot(range_x, values_f, color='red')\n",
    "    plt.plot(range_x, values_d, color='blue')\n",
    "    plt.show()\n",
    "    \n",
    "interact(plot_f_and_f_der, min_x=(-100, 100.0), max_x=(-100, 100.0), k=(-50, 50.0));"
   ]
  },
  {
   "cell_type": "markdown",
   "metadata": {},
   "source": [
    "2. Incarcati fisierul de date [Abalone](http://archive.ics.uci.edu/ml/datasets/Abalone) si in functie de alegerile exprimate de un utilizator in controale de tip dropdown, afisati intr-un grafic 2D coloanele numerice alese. Numele coloanelor se gasesc in fisierul `abalone.names`."
   ]
  },
  {
   "cell_type": "code",
   "execution_count": 4,
   "metadata": {},
   "outputs": [
    {
     "data": {
      "application/vnd.jupyter.widget-view+json": {
       "model_id": "5358b1bc901f4feab58cdecfeaf7d452",
       "version_major": 2,
       "version_minor": 0
      },
      "text/plain": [
       "interactive(children=(Dropdown(description='column1', options={'Length': 1, 'Diameter': 2, 'Height': 3, 'Whole…"
      ]
     },
     "metadata": {},
     "output_type": "display_data"
    }
   ],
   "source": [
    "abalone_data:pd.DataFrame() = pd.read_csv('abalone.data', header=None, encoding='utf-8')\n",
    "    \n",
    "def plot_abalone(column1:int, column2:int) -> None:\n",
    "    \"\"\"\n",
    "    Plots abalone dataset based on two given columns for the dataset\n",
    "    :param column1: int, first column for dataset\n",
    "    :param column2: int, second column for dataset\n",
    "    :returns: nothing\n",
    "    \"\"\"\n",
    "    plt.figure(figsize=(8, 8))\n",
    "    plt.xlabel(list(columns.keys())[list(columns.values()).index(column1)])\n",
    "    plt.ylabel(list(columns.keys())[list(columns.values()).index(column2)])\n",
    "    data_m:pd.DataFrame() = abalone_data[abalone_data[0] == 'M']\n",
    "    data_f:pd.DataFrame() = abalone_data[abalone_data[0] == 'F']\n",
    "    data_i:pd.DataFrame() = abalone_data[abalone_data[0] == 'I']\n",
    "    plt.plot(data_m.iloc[:, column1], data_m.iloc[:, column2], \\\n",
    "             color='blue', marker='1', linestyle='none', label = data_m.iloc[0, 0])\n",
    "    plt.plot(data_f.iloc[:, column1], data_f.iloc[:, column2], \\\n",
    "             color='red', marker='2', linestyle='none', label = data_f.iloc[0, 0])\n",
    "    plt.plot(data_i.iloc[:, column1], data_i.iloc[:, column2], \\\n",
    "             color='green', marker='3', linestyle='none', label = data_i.iloc[0, 0])\n",
    "    plt.legend(loc='upper left')\n",
    "    plt.show()\n",
    "\n",
    "\n",
    "columns:dict = {\"Length\": 1, \"Diameter\": 2, \"Height\": 3, \"Whole weight\": 4, \"Shucked weight\": 5, \"Viscera weight\": 6, \"Shell weight\": 7, \"Rings\": 8}\n",
    "interact(plot_abalone, column1=columns, column2=columns);"
   ]
  },
  {
   "cell_type": "markdown",
   "metadata": {},
   "source": [
    "1. Folosind un API pentru date legate de vreme (vedeti o lista de API-uri ce se pot utiliza gratuit [aici](https://rapidapi.com/blog/access-global-weather-data-with-these-weather-apis/#:~:text=What%20is%20a%20Weather%20API,weather%20forecast%20and%20historical%20information.)), creati o interfata in Jupyter notebook sau Jupyterlab, folosind ipywidgets, in care sa expuneti valori preluate din API. Definiti controale adecvate, in functie de parametrii de apel permisi de API. "
   ]
  },
  {
   "cell_type": "code",
   "execution_count": 5,
   "metadata": {},
   "outputs": [],
   "source": [
    "import warnings\n",
    "warnings.filterwarnings(\"ignore\")"
   ]
  },
  {
   "cell_type": "code",
   "execution_count": 6,
   "metadata": {},
   "outputs": [],
   "source": [
    "import requests\n",
    "import json\n",
    "\n",
    "# OpenWeatherMap API keys: https://home.openweathermap.org/api_keys\n",
    "api_key:str = \"\"\n",
    "\n",
    "def weather_data_request(latitude:float, longitude:float) -> dict:\n",
    "    \"\"\"\n",
    "    Makes a request for 5 day weather forecast to OpenWeatherAPI and returns resulted dictionary\n",
    "    :param latitude: float, latitude for the specified location to be queried\n",
    "    :param longitude: float, longitude for the specified location to be queried\n",
    "    :returns: dict, result based on API call\n",
    "    \"\"\"\n",
    "    # url:str = f\"https://api.openweathermap.org/data/2.5/weather?lat={latitude}&lon={longitude}&appid={api_key}\"\n",
    "    url:str = f\"https://api.openweathermap.org/data/2.5/forecast?lat={latitude}&lon={longitude}&appid={api_key}\"\n",
    "    response:str= requests.get(url, verify=False).json()\n",
    "    return response\n",
    "\n",
    "# weather_data:dict = weather_data_request(\"45.6427\", \"25.5887\")"
   ]
  },
  {
   "cell_type": "code",
   "execution_count": 7,
   "metadata": {},
   "outputs": [
    {
     "data": {
      "application/vnd.jupyter.widget-view+json": {
       "model_id": "ba11844bf28a42dc809ff6fad302373a",
       "version_major": 2,
       "version_minor": 0
      },
      "text/plain": [
       "interactive(children=(Text(value='45.6427', description='latitude'), Text(value='25.5887', description='longit…"
      ]
     },
     "metadata": {},
     "output_type": "display_data"
    }
   ],
   "source": [
    "def get_weather_data(latitude:float, longitude:float) -> dict:\n",
    "    \"\"\"\n",
    "    Gets the weather information for 5 days of forecast with updates every 3 hours\n",
    "    :param latitude: float, latitude for the specified location to be queried\n",
    "    :param longitude: float, longitude for the specified location to be queried\n",
    "    :returns: dict, 5 day forecast data\n",
    "    \"\"\"\n",
    "    weather_data:dict = weather_data_request(latitude, longitude)\n",
    "    return weather_data\n",
    "\n",
    "def weather_api(latitude:float, longitude:float, option:str) -> None:\n",
    "    \"\"\"\n",
    "    Plots the weather data based on given option\n",
    "    :param latitude: float, latitude for the specified location to be queried\n",
    "    :param longitude: float, longitude for the specified location to be queried\n",
    "    :param option: string, weather option (ex: temp, humidity, pressure etc)\n",
    "    :returns: nothing\n",
    "    \"\"\"\n",
    "    data:dict = get_weather_data(latitude, longitude)\n",
    "    plt.figure(figsize=(8, 8))\n",
    "    title:str = f'{data[\"city\"][\"name\"]} ({data[\"city\"][\"country\"]})'\n",
    "    plt.title(title)\n",
    "    plt.xlabel('day (update every 3 hours)')\n",
    "    plt.ylabel(option)\n",
    "    data:List[float] = [x['main'][option] for x in data['list']]\n",
    "    colors:List[str] = ['b', 'g', 'r', 'c', 'm', 'y', 'k', 'w']\n",
    "    no_days:int = 5\n",
    "    intervals_in_day:int = 8\n",
    "    for i in range(no_days):\n",
    "        plt.plot(data[i * intervals_in_day: (i + 1) * intervals_in_day], color=colors[i], label = f'day {i + 1}')\n",
    "    plt.legend(loc='upper left')\n",
    "    plt.show()\n",
    "    \n",
    "options:List[str] = ['temp', 'feels_like', 'temp_min', 'temp_max', 'pressure', 'sea_level', 'grnd_level', 'humidity', 'temp_kf']\n",
    "interact(weather_api, latitude=\"45.6427\", longitude=\"25.5887\", option=options);"
   ]
  },
  {
   "cell_type": "markdown",
   "metadata": {},
   "source": [
    "## Laborator 5: Dashboards\n",
    "\n",
    "1. Documentati-va despre [dashboards](https://en.wikipedia.org/wiki/Dashboard_(business)) (~ \"tablouri de bord\"). \n",
    "1. Documentati-va despre solutiile de dashboards disponibile in jupyter notebook, de ex:\n",
    "    1. [How to create a dashboard in Python with Jupyter Notebook?](https://mljar.com/blog/dashboard-python-jupyter-notebook/)\n",
    "    1. [Interactive Dashboard from Jupyter Notebook with Mercury framework](https://towardsdatascience.com/interactive-dashboard-from-jupyter-notebook-with-mercury-framework-e1269fdbe73c)\n",
    "    1. [How to Create a Beautiful Python Visualization Dashboard With Panel/Hvplot](https://www.youtube.com/watch?v=uhxiXOTKzfs)\n",
    "    1. [Interactive data dashboards in Jupyter notebook with ipywidgets and Bokeh](https://danielmuellerkomorowska.com/2021/08/02/interactive-data-dashboards-in-jupyter-notebook-with-ipywidgets-and-bokeh/); explicatii la [How to Build an Interactive Data Dashboard in Jupyter Notebook](https://www.youtube.com/watch?v=EEKX5l_Y3_8) etc.\n",
    "1. Alegeti un set de date din repository-ul [UC Irvine Machine Learning Repository](http://archive.ics.uci.edu/ml/index.php) si realizati un dashboard pe baza lui. Prezentarea se poate face in Jupyter notebook sau ca aplicatie standalone. Includeti in arhiva:\n",
    "    * fisier `requirements.txt` cu bibliotecile care trebuie instalate cu `pip`; [documentatie requirements.txt](https://learnpython.com/blog/python-requirements-file/)\n",
    "    * fisier readme.txt, in limba romana sau engleza, cu pasii care trebuie urmati pentru a putea utiliza dashboard-ul; de exemplu, unul din pasi este `pip install -r requirements.txt`; adaugati alti pasi necesari. "
   ]
  },
  {
   "cell_type": "code",
   "execution_count": 8,
   "metadata": {},
   "outputs": [],
   "source": [
    "wine_data:pd.DataFrame() = pd.read_csv('wine.data', header=None, encoding='utf-8')\n",
    "columns = {\"Malic acid\" : 1,\n",
    "           \"Ash\": 2,\n",
    "           \"Alcalinity of ash\": 3,\n",
    "           \"Magnesium\": 4,\n",
    "           \"Total phenols\": 5,\n",
    "           \"Flavanoids\": 6,\n",
    "           \"Nonflavanoid phenols\": 7,\n",
    "           \"Proanthocyanins\": 8,\n",
    "           \"Color intensity\": 9,\n",
    "           \"Hue\": 10,\n",
    "           \"OD280/OD315 of diluted wines\": 11,\n",
    "           \"Proline\": 12}\n",
    "\n",
    "def split_wine_data(wine_data:pd.DataFrame()):\n",
    "    \"\"\"\n",
    "    Splits the wine data based on class (there are 3 classes of vendors)\n",
    "    :param wine_data: pandas dataframe that represents wine dataset\n",
    "    :returns: dict, 5 day forecast data\n",
    "    \"\"\"\n",
    "    data1:pd.DataFrame() = wine_data[wine_data[0] == 1]\n",
    "    data2:pd.DataFrame() = wine_data[wine_data[0] == 2]\n",
    "    data3:pd.DataFrame() = wine_data[wine_data[0] == 3]\n",
    "    return (data1, data2, data3)"
   ]
  },
  {
   "cell_type": "code",
   "execution_count": 9,
   "metadata": {},
   "outputs": [
    {
     "data": {
      "application/vnd.jupyter.widget-view+json": {
       "model_id": "b9e853f542e840139a2a03afc80440a7",
       "version_major": 2,
       "version_minor": 0
      },
      "text/plain": [
       "interactive(children=(Dropdown(description='column1', options={'Malic acid': 1, 'Ash': 2, 'Alcalinity of ash':…"
      ]
     },
     "metadata": {},
     "output_type": "display_data"
    }
   ],
   "source": [
    "def plot_wine(column1:int, column2:int) -> None:\n",
    "    \"\"\"\n",
    "    Plots wine dataset based on two given columns for the dataset with matplotlib\n",
    "    :param column1: int, first column for dataset\n",
    "    :param column2: int, second column for dataset\n",
    "    :returns: nothing\n",
    "    \"\"\"\n",
    "    plt.figure(figsize=(8, 8))\n",
    "    plt.xlabel(list(columns.keys())[list(columns.values()).index(column1)])\n",
    "    plt.ylabel(list(columns.keys())[list(columns.values()).index(column2)])\n",
    "    (data1, data2, data3) = split_wine_data(wine_data)\n",
    "    plt.plot(data1.iloc[:, column1], data1.iloc[:, column2], \\\n",
    "             color='blue', marker='1', linestyle='none', label = data1.iloc[0, 0])\n",
    "    plt.plot(data2.iloc[:, column1], data2.iloc[:, column2], \\\n",
    "             color='red', marker='2', linestyle='none', label = data2.iloc[0, 0])\n",
    "    plt.plot(data3.iloc[:, column1], data3.iloc[:, column2], \\\n",
    "             color='green', marker='3', linestyle='none', label = data3.iloc[0, 0])\n",
    "    plt.legend(loc='upper left')\n",
    "    plt.show()\n",
    "    # return fig\n",
    "\n",
    "interact(plot_wine, column1=columns, column2=columns);"
   ]
  },
  {
   "cell_type": "code",
   "execution_count": 16,
   "metadata": {},
   "outputs": [
    {
     "name": "stdout",
     "output_type": "stream",
     "text": [
      "Launching server at http://localhost:56080\n"
     ]
    },
    {
     "data": {
      "text/plain": [
       "<bokeh.server.server.Server at 0x18266f072e0>"
      ]
     },
     "execution_count": 16,
     "metadata": {},
     "output_type": "execute_result"
    }
   ],
   "source": [
    "import panel as pn\n",
    "import numpy as np\n",
    "import holoviews as hv\n",
    "import hvplot.pandas\n",
    "\n",
    "pn.extension(sizing_mode = 'stretch_width')\n",
    "\n",
    "@pn.depends(column1=column1, column2=column2)\n",
    "def wine_plot_hv(column1:int, column2:int) -> hvplot:\n",
    "    \"\"\"\n",
    "    Plots wine dataset based on two given columns for the dataset with hvplot\n",
    "    :param column1: int, first column for dataset\n",
    "    :param column2: int, second column for dataset\n",
    "    :returns: hvplot\n",
    "    \"\"\"\n",
    "    # (data1, data2, data3) = split_wine_data(wine_data)\n",
    "    data1:list = list(wine_data.iloc[:, column1])\n",
    "    data2:list = list(wine_data.iloc[:, column2])\n",
    "    return (hv.Points(data1) * hv.Points(data2)).opts(responsive=True, min_height=400)\n",
    "\n",
    "material:pn.template = pn.template.MaterialTemplate(title='Material Template')\n",
    "\n",
    "column1 = pn.widgets.Select(name='First', options=columns)\n",
    "column2 = pn.widgets.Select(name='Second', options=columns)\n",
    "\n",
    "material.sidebar.append(column1)\n",
    "material.sidebar.append(column2)\n",
    "material.main.append(pn.Card(hv.DynamicMap(wine_plot_hv)))\n",
    "material.show()"
   ]
  },
  {
   "cell_type": "code",
   "execution_count": null,
   "metadata": {},
   "outputs": [],
   "source": []
  }
 ],
 "metadata": {
  "kernelspec": {
   "display_name": "Python 3 (ipykernel)",
   "language": "python",
   "name": "python3"
  },
  "language_info": {
   "codemirror_mode": {
    "name": "ipython",
    "version": 3
   },
   "file_extension": ".py",
   "mimetype": "text/x-python",
   "name": "python",
   "nbconvert_exporter": "python",
   "pygments_lexer": "ipython3",
   "version": "3.9.13"
  }
 },
 "nbformat": 4,
 "nbformat_minor": 4
}
