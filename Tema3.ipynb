{
  "metadata": {
    "kernelspec": {
      "name": "python",
      "display_name": "Python (Pyodide)",
      "language": "python"
    },
    "language_info": {
      "codemirror_mode": {
        "name": "python",
        "version": 3
      },
      "file_extension": ".py",
      "mimetype": "text/x-python",
      "name": "python",
      "nbconvert_exporter": "python",
      "pygments_lexer": "ipython3",
      "version": "3.8"
    },
    "toc": {
      "base_numbering": 1,
      "nav_menu": {},
      "number_sections": true,
      "sideBar": true,
      "skip_h1_title": false,
      "title_cell": "Table of Contents",
      "title_sidebar": "Contents",
      "toc_cell": false,
      "toc_position": {},
      "toc_section_display": true,
      "toc_window_display": false
    },
    "varInspector": {
      "cols": {
        "lenName": 16,
        "lenType": 16,
        "lenVar": 40
      },
      "kernels_config": {
        "python": {
          "delete_cmd_postfix": "",
          "delete_cmd_prefix": "del ",
          "library": "var_list.py",
          "varRefreshCmd": "print(var_dic_list())"
        },
        "r": {
          "delete_cmd_postfix": ") ",
          "delete_cmd_prefix": "rm(",
          "library": "var_list.r",
          "varRefreshCmd": "cat(var_dic_list()) "
        }
      },
      "types_to_exclude": [
        "module",
        "function",
        "builtin_function_or_method",
        "instance",
        "_Feature"
      ],
      "window_display": false
    }
  },
  "nbformat_minor": 5,
  "nbformat": 4,
  "cells": [
    {
      "cell_type": "markdown",
      "source": "# Laborator 3 - tema 3",
      "metadata": {},
      "id": "f6cc83a0"
    },
    {
      "cell_type": "code",
      "source": "from typing import Tuple\nfrom typing import List\nfrom typing import Set",
      "metadata": {
        "trusted": true
      },
      "execution_count": 2,
      "outputs": [],
      "id": "dc0c33ab-4b88-4b6e-9ffe-69ae430f9c5c"
    },
    {
      "cell_type": "markdown",
      "source": "Se acordă doua puncte din oficiu. Fișierul va fi denumit tema3_ia_nume_prenume.ipynb. Verificați înainte de trimitere faptul ca execuția celulelor de sus în jos funcționează corespunzător. Aserțiunile sunt obligatoriu a fi indeplinite. Suplimentar, puteti face verificari si pentru alte valori.\n\nSe vor folosi type annotations pentru variabile, parametrii tuturor funcțiilor, tipuri de retur. Se vor folosi docstrings pentru toate funcțiile. Neîndeplinirea acestei cerințe duce la înjumătățirea punctajului pentru exercițiul în cauză.  \n\nTema va fi predata pana cel tarziu in 1 noiembrie ora 23, pe platforma.",
      "metadata": {},
      "id": "ffc91598"
    },
    {
      "cell_type": "markdown",
      "source": "1. (1p) Pentru un vector de numere, care sunt toate pozitiile pe care apare valoarea minima?\nFolositi functii NumPy.",
      "metadata": {},
      "id": "ad23e658"
    },
    {
      "cell_type": "code",
      "source": "import numpy as np\n\ndef positions_of_min(array:np.array) -> List[np.float32]:\n    '''\n    Determines on what positions on the input array are its minimum value\n    :param array: np.array vector on which the operations take place\n    :returns: List[np.float32] vector with positions\n    '''\n    MIN:np.float32 = array.min()\n    return np.where(array == MIN)[0]\n\nv:np.array = np.array([1, 2, 3, 4, 4, 3, 1] * 2, dtype=np.float32)  # de adnotat\n\npositions_min:List[np.float32] = positions_of_min(v)\n\nassert np.all(positions_min == [ 0,  6,  7, 13])",
      "metadata": {
        "trusted": true
      },
      "execution_count": 5,
      "outputs": [],
      "id": "b72d0c3b"
    },
    {
      "cell_type": "markdown",
      "source": "2. (1p) Construiti o functie care, primind o matrice, determina pe ce pozitii (linii, coloane) se afla valorile in intervalele [a, b] sau [c, d] date ca parametri. Functia va returna un tuplu de doi vectori: primul e cu indicii de linie, al doilea cu indicii de coloana unde se afla elementele cautate.\n\nExemplu:",
      "metadata": {},
      "id": "a676a350"
    },
    {
      "cell_type": "code",
      "source": "def pos_values(mat:np.array, a:int, b:int, c:int, d:int) -> Tuple[np.array, np.array]: # de adaugat typing annotations pentru parametri si tip de retur\n    '''\n    Determines on what positions (rows, columns) are values in intervals [a, b] or [c, d]\n    :param mat: np.array matrix on which the operations take place\n    :param a: int, inferior limit of first interval\n    :param b: int, superior limit of first interval\n    :param c: int, inferior limit of second interval\n    :param d: int, superior limit of second interval\n    :returns: Tuple, 2 vectors where first contains row indices and second column indices\n    '''\n    assert a < b\n    assert c < d\n    return np.where(np.logical_or(np.logical_and(mat >= a , mat <= b), np.logical_and(mat >= c , mat <= d)))\n        \n\nmat = np.arange(12).reshape(3, 4)\nrows, cols = pos_values(mat, 2, 4, 6, 8)\nassert np.all(rows == [0, 0, 1, 1, 1, 2])\nassert np.all(cols == [2, 3, 0, 2, 3, 0])\n\nmat = -np.arange(12).reshape(3, 4)\nrows, cols = pos_values(mat, 2, 4, 6, 8)\nassert np.all(rows == [])\nassert np.all(cols == [])",
      "metadata": {
        "ExecuteTime": {
          "end_time": "2022-10-15T16:50:11.192833Z",
          "start_time": "2022-10-15T16:50:11.178288Z"
        },
        "trusted": true
      },
      "execution_count": 6,
      "outputs": [],
      "id": "c4c2b27a"
    },
    {
      "cell_type": "markdown",
      "source": "3. (1p) Se da un vector cu numere intregi nenule. Sa se determine toti indicii `i` unde urmeaza o schimbare de semn. Codul se va scrie intr-o functie adnotata.\n\nExemplu: \n```python\nv = [1, 2, -1, 2, 3, -1, 3, -10, -10, -10]\n```\nTrebuie sa rezulte vectorul de indici: `[1, 2, 4, 5, 6]`.\n\nDe luat in considerare ca:\n1. Magnitudinea valorilor nu conteaza, doar semnele lor\n1. Functia `np.where` gaseste indicii unde anumite proprietati sunt indeplinite",
      "metadata": {},
      "id": "54daf93f"
    },
    {
      "cell_type": "code",
      "source": "def jumping(v:np.array) -> np.array:  # de adnotat, doctstring\n    '''\n    Determines on what positions a sign change is going to happen\n    :param v: np.array vector on which the operations take place\n    :returns: np.array vector with positions\n    '''\n    assert np.all( v != 0), 'All values should be non-zero'\n    return np.where(v[:-1] * v[1:] < 0)[0] \n\n# test 1\nv = np.array([1, 2, -1, 2, 3, -1, 3, -10, -10, -10])\nassert np.all(jumping(v) == [1, 2, 4, 5, 6])\n\n# test 2: random vector, naive counting\nv = np.random.randint(-100, 100, 1000)\n# patching 0 values\nv[v==0] = -1\n# naive way of counting jumps:\npositions = []\nfor i in range(len(v)-1):\n    if v[i] * v[i+1] < 0:\n        positions.append(i)\n    \nassert np.all(positions == jumping(v))",
      "metadata": {
        "ExecuteTime": {
          "end_time": "2022-10-15T17:38:02.957500Z",
          "start_time": "2022-10-15T17:38:02.939480Z"
        },
        "trusted": true
      },
      "execution_count": 7,
      "outputs": [],
      "id": "f6f92c03"
    },
    {
      "cell_type": "markdown",
      "source": "4. (1p) Generati o matrice aleatoare de dimensiune m*n care are m valori nan (not-an-number, https://numpy.org/doc/stable/reference/constants.html), la pozitii aleatoare. Determinati apoi suma elementelor non-nan din matrice in doua feluri (construiti doua functii). Comparati sumele returnate.\n\nExemplu:\n```python\na = get_matrix(3, 4)\n# sa presupunem ca a este\na = \n    1.5 2.2 np.nan\n    4.3 np.nan np.nan\n    10.1 5.0 -3.1\n```\n\nSuma elementelor este 20.0.\nIndicatii: folositi functia `np.random.choice` cu parametri adecvati pentru a alege indici in mod aleator, fara repetare. ",
      "metadata": {},
      "id": "4f0f3a3e"
    },
    {
      "cell_type": "code",
      "source": "def get_matrix(m:int, n:int) -> np.array:  # de adnotat, docstring\n    '''\n    Generates a matrix based on m and n params where there are m numbers of np.nan values\n    :param m: int, param for rows\n    :param n: int, param for columns\n    :returns: np.array matrix\n    '''\n    a = np.random.rand(m, n)\n    # a[np.random.randint(a.shape[0], size = m), np.random.randint(a.shape[1], size = m)] = np.nan\n    a.ravel()[np.random.choice(a.size, m, replace=False)] = np.nan\n    assert np.sum(np.isnan(a)) == m  # verificare: avem exact m nan-uri\n    return a\n\ndef sum_1(a:np.array) -> int:  # de adnotat, docstring\n    '''\n    Determines sum of array using np.nansum\n    :param a: np.array input\n    :returns: sum of array\n    '''\n    return np.nansum(a)\n\ndef sum_2(a:np.array) -> int: # de adnotat, docstring\n    '''\n    Determines sum of array using np.sum(np.nan_to_num)\n    :param a: np.array input\n    :returns: sum of array\n    '''\n    return np.sum(np.nan_to_num(a))\n\ndef naive_sum(a: np.ndarray) -> float:\n    s = 0\n    m, n = a.shape\n    for i in range(m):\n        for j in range(n):\n            s += a[i, j] if not np.isnan(a[i, j]) else 0\n    return s\n\nm, n = 3, 4\na:np.array = get_matrix(m, n)\n\nassert np.allclose(sum_1(a), naive_sum(a))\nassert np.allclose(sum_2(a), naive_sum(a))\n\n# pentru studenti: de ce e nevoie de allclose si nu se face comparatie cu == ?",
      "metadata": {
        "ExecuteTime": {
          "end_time": "2022-10-15T19:03:43.124964Z",
          "start_time": "2022-10-15T19:03:43.096960Z"
        },
        "trusted": true
      },
      "execution_count": 14,
      "outputs": [],
      "id": "599c4fad"
    },
    {
      "cell_type": "markdown",
      "source": "5. (1p) Folosnd functia `np.convolve`, sa se determine media alunecatoare (moving average) pentru un vector de 10000 de numere aleatoare; lungimea ferestrei alunecatore se da ca parametru al functiei construite de voi. Comparati rezultatele si viteza de executie cu a functiaie `naive_moving_average`.\n\nReferinte:\n1. [Moving average](https://en.wikipedia.org/wiki/Moving_average)\n1. [np.convolve: How to Use Numpy convolve() Method](https://appdividend.com/2022/10/14/np-convolve/)",
      "metadata": {},
      "id": "777e3e47"
    },
    {
      "cell_type": "code",
      "source": "def moving_average_fast(x:np.array, w:int) -> np.array:  # de adnotat, docstring\n    '''\n    Determines moving average for given :param x: vector with :param w: window using np.convolve\n    :param x: np.array input\n    :param w: int, window input\n    :returns: np.array moving average\n    '''\n    assert x.ndim == 1, 'One dimension numpy array'\n    assert w > 1, 'Average of at least two values'\n    y = np.cumsum(x)\n    y[w:] -= y[:-w]\n    return y[w-1:] / w\n\ndef moving_average_slow(x:np.array, w:int) -> np.array: # de adnotat, docstring\n    '''\n    Determines moving average for given :param x: vector with :param w: window using for\n    :param x: np.array input\n    :param w: int, window input\n    :returns: np.array moving average\n    '''\n    assert x.ndim == 1, 'One dimension numpy array'\n    assert w > 1, 'Average of at least two values'\n    result:np.array = np.zeros(x.shape[0]-w+1)\n    for i in range(x.shape[0]-w+1):\n        result[i] = np.mean(x[i:i+w])\n    return result\n\nlen_vec, w = 10000, 10\nx:np.array = np.random.rand(len_vec)\n\na:np.array = moving_average_fast(x, w)\nb:np.array = moving_average_slow(x, w)\n\nassert len(a) == len(b), 'The two methods should return vectors of the same lengths'\nassert np.allclose(a, b), 'The two methods should return close vectors'\n\n%timeit moving_average_fast(x, w)\n%timeit moving_average_slow(x, w)",
      "metadata": {
        "trusted": true
      },
      "execution_count": 21,
      "outputs": [
        {
          "name": "stdout",
          "text": "144 µs ± 4 µs per loop (mean ± std. dev. of 7 runs, 10,000 loops each)\n378 ms ± 6.38 ms per loop (mean ± std. dev. of 7 runs, 1 loop each)\n",
          "output_type": "stream"
        }
      ],
      "id": "f8693f11"
    },
    {
      "cell_type": "markdown",
      "source": "6. (1p) Se dau vectorii de valori $x=[x_0 \\dots x_{n-1}]$, $t=[t_0, \\dots t_n-1]$, cu $t[0] < t[1] < \\dots$. Sa se calculeze intr-o maniera vectorizata vectorul $v$ ale carui componente sunt:\n$$\nv[i] = \\frac{x[i+1] - x[i]}{t[i+1] - t[i]}\n$$\n\nIn prealabil sa se verifice (vectorizat sau functii NumPy) ca vectorul $t$ este format doar din valori strict crescatoare. Comparati rezultatele si viteza de executie cu o implementare care construieste vectorul $v$ pas cu pas.\n\nOptional: incercati si o implementare folosind Numba. ",
      "metadata": {},
      "id": "e9a21733"
    },
    {
      "cell_type": "code",
      "source": "import numpy as np\n\nn:int = 100000\nx:np.array = np.random.rand(n)\nt:np.array = np.random.randint(1, 10, n)\nt:np.array = t.cumsum()\n\ndef is_increasing(t:np.array) -> bool: # de adnotat, docstring\n    '''\n    Determines if array has increasing values (sorted)\n    :param t: np.array input\n    :returns: True if :param t: is sorted, False otherwise\n    '''\n    return np.all(np.diff(t) > 0)\n\nassert is_increasing(t), 't should be an increasing vector'\n\ndef fast_v(x:np.array, t:np.array) -> np.array: # de adnotat, docstring\n    '''\n    Calculates v[i] = (x[i+1] - x[i]) / (t[i+1] - t[i]) based on input arrays using np.diff\n    :param x: np.array input\n    :param t: np.array input\n    :returns: np.array, resulting array based on calculations\n    '''\n    assert is_increasing(t), 'non increasing values'\n    return np.diff(x) / np.diff(t)\n\ndef slow_v(x:np.array, t:np.array) -> np.array: # de adnotat, docstring\n    '''\n    Calculates v[i] = (x[i+1] - x[i]) / (t[i+1] - t[i]) based on input arrays using for\n    :param x: np.array input\n    :param t: np.array input\n    :returns: np.array, resulting array based on calculations\n    '''\n    assert is_increasing(t), 'non increasing values'\n    v:np.array = ([])\n    length:int = len(x)\n    for i in range(0, length-1):\n        v = np.append(v, (x[i + 1] - x[i]) / (t[i + 1] - t[i]))\n    return v\n\nv1 = fast_v(x, t)\nv2 = slow_v(x, t)\n\nassert v1.shape == v2.shape\nassert np.allclose(v1, v2)\n\n%timeit fast_v(x, t)\n%timeit slow_v(x, t)",
      "metadata": {
        "trusted": true
      },
      "execution_count": 22,
      "outputs": [
        {
          "name": "stdout",
          "text": "1.46 ms ± 80.6 µs per loop (mean ± std. dev. of 7 runs, 1,000 loops each)\n12.5 s ± 312 ms per loop (mean ± std. dev. of 7 runs, 1 loop each)\n",
          "output_type": "stream"
        }
      ],
      "id": "60146771"
    },
    {
      "cell_type": "markdown",
      "source": "7. (2p) Se da o matrice $a$ cu numere reale. \n    1. Sa se calculeze o alta matrice $b$ care are valorile calculate astfel:\n    $$\n    b[i, j] = \\frac{a[i, j] - MIN}{MAX-MIN}\n    $$\n    unde $MAX$ si $MIN$ sunt valoarile minima, respectiv maxima din $a$. Tranformarea se face printr-o functie care preia o matrice si returneaza un tuplu compus din matricea $b$ si valorile $MIN$ si $MAX$ \n    2. Verificati ca in urma acestei transformari matricea $b$ are valorile in intervalul $(-epsilon, 1+epsilon)$, unde $epsilon=1e-5$.\n    3. Daca se dau $b$, $MIN$, $MAX$, care este transfomarea inversa prin care obtinem matricea $a$ originara? Verificati ca valorile lui $a$ si $a_reconstituit$ sunt aproximativ egale. ",
      "metadata": {},
      "id": "f27b7e8f"
    },
    {
      "cell_type": "code",
      "source": "from typing import Tuple\n\nimport numpy as np\nm, n = 100, 200\n\na = np.random.randn(m, n)\n\n# rezolvare pct A\ndef min_max_scale(x:np.array): # de adnotat, docstring\n    '''\n    Calculates b[i,j] = (x[i,j] - MIN) / (MAX - MIN) where x is input matrix and MIN And MAX\n    are calculated based on input matrix\n    :param x: np.array matrix input\n    :returns: Tuple where first element is calculated matrix, second element is MIN value and third is MAX value\n    '''\n    MIN = x.min()\n    MAX = x.max()\n    b = (x - MIN) / (MAX - MIN)\n    return b, MIN, MAX\n\n# rezolvare pct B\ndef check_scaling(y: np.ndarray, eps = 1e-5): # de adnotat, docstring\n    '''\n    Determines if matrix has all elements in the following interval: (-eps, 1 + eps) where eps is given param\n    :param y: np.array matrix input\n    :param eps: value with which interval is determined\n    :returns: True if all elements of :param y: are in the determined interval, False otherwise\n    '''\n    assert eps > 0\n    return np.logical_and((y > - eps), (y < 1 + eps)).all()\n\nassert check_scaling(min_max_scale(a)[0])\n\n# rezolvare pct C\ndef inverse_min_max_scale(y: np.ndarray, MIN: float, MAX: float): # de adnotat, docstring\n    '''\n    Calculates inverse of min_max_scale\n    :param y: np.array matrix input\n    :param MIN: float, min of original matrix returned by min_max_scale\n    :param MAX: float, max of original matrix returned by min_max_scale\n    :returns: np.array matrix, inverse of min_max_scale (original matrix)\n    '''\n    assert MAX > MIN\n    return y * (MAX-MIN) + MIN\n\nb, MIN, MAX = min_max_scale(a)\nassert np.allclose(a, inverse_min_max_scale(b, MIN, MAX))",
      "metadata": {
        "trusted": true
      },
      "execution_count": 23,
      "outputs": [],
      "id": "513a8f93"
    },
    {
      "cell_type": "code",
      "source": "",
      "metadata": {},
      "execution_count": null,
      "outputs": [],
      "id": "b2ba6c02-8b1a-4b15-8295-c9a3d3779b17"
    }
  ]
}