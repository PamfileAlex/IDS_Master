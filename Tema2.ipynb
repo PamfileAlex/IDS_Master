{
  "metadata": {
    "kernelspec": {
      "name": "python",
      "display_name": "Python (Pyodide)",
      "language": "python"
    },
    "language_info": {
      "codemirror_mode": {
        "name": "python",
        "version": 3
      },
      "file_extension": ".py",
      "mimetype": "text/x-python",
      "name": "python",
      "nbconvert_exporter": "python",
      "pygments_lexer": "ipython3",
      "version": "3.8"
    },
    "toc": {
      "base_numbering": 1,
      "nav_menu": {},
      "number_sections": true,
      "sideBar": true,
      "skip_h1_title": false,
      "title_cell": "Table of Contents",
      "title_sidebar": "Contents",
      "toc_cell": false,
      "toc_position": {},
      "toc_section_display": true,
      "toc_window_display": false
    },
    "varInspector": {
      "cols": {
        "lenName": 16,
        "lenType": 16,
        "lenVar": 40
      },
      "kernels_config": {
        "python": {
          "delete_cmd_postfix": "",
          "delete_cmd_prefix": "del ",
          "library": "var_list.py",
          "varRefreshCmd": "print(var_dic_list())"
        },
        "r": {
          "delete_cmd_postfix": ") ",
          "delete_cmd_prefix": "rm(",
          "library": "var_list.r",
          "varRefreshCmd": "cat(var_dic_list()) "
        }
      },
      "types_to_exclude": [
        "module",
        "function",
        "builtin_function_or_method",
        "instance",
        "_Feature"
      ],
      "window_display": false
    },
    "colab": {
      "provenance": [],
      "collapsed_sections": []
    }
  },
  "nbformat_minor": 4,
  "nbformat": 4,
  "cells": [
    {
      "cell_type": "markdown",
      "source": "# Laborator 2\n\nContinut:\n1. Exercitii cu functii\n1. Exercitii cu NumPy\n\nPrecizari:\n1. Studentii se pot consulta reciproc, dar rezolvarile vor fi individuale. Daca la o problema nu se pot furniza explicatii legate de rezolvare, nota pentru intreaga tema va fi 0. \n1. Temele se predau in activitatea de elearning asociata, pana in 21 octombrie 2022 ora 23. Se acorda 2 puncte din oficiu.\n1. Tema va fi implementata intr-un singur fisier Jupyter Notebook, avand numele: Tema2_IDS_nume_prenume.ipynb. Exemplu: Tema2_IDS_Popescu_Ioana.ipynb\n1. Se vor folosi type annotations pentru variabile, parametrii functiilor, tipuri de retur. Se vor folosi docstrings pentru functii, in limba romana sau engleza. Neindeplinirea acestei cerinte duce la injumatatirea punctajului pe exercitiul in cauza.",
      "metadata": {
        "id": "CW4BQk-8K8V6"
      }
    },
    {
      "cell_type": "markdown",
      "source": "Pentru docstring exista 3 stiluri de lucru. Exemple scurte sunt la [https://stackoverflow.com/questions/3898572/what-is-the-standard-python-docstring-format](https://stackoverflow.com/questions/3898572/what-is-the-standard-python-docstring-format). Se va folosi stilul reST, recomandat de [PEP287](https://www.python.org/dev/peps/pep-0287/).",
      "metadata": {
        "id": "7pzJxUxHK8V9"
      }
    },
    {
      "cell_type": "code",
      "source": "from typing import Tuple\nfrom typing import List\nfrom typing import Set",
      "metadata": {
        "id": "ueFz9-H7shKc",
        "trusted": true
      },
      "execution_count": 1,
      "outputs": []
    },
    {
      "cell_type": "markdown",
      "source": "## Exercitii cu functii",
      "metadata": {
        "ExecuteTime": {
          "end_time": "2019-03-05T18:34:32.294814Z",
          "start_time": "2019-03-05T18:34:32.283406Z"
        },
        "id": "TBHbE36gK8V_"
      }
    },
    {
      "cell_type": "markdown",
      "source": "1 (1 punct). Scrieti o functie care primeste un numar intreg si returneaza produsul cifrelor sale. ",
      "metadata": {
        "id": "tH8AoPPcK8V_"
      }
    },
    {
      "cell_type": "code",
      "source": "# def product_digits(number: int) -> int:  \n#     '''\n#     Calculates sum of digits\n#     :param number: int input, number on which sum is being calculated\n#     :returns: int, sum of digits\n#     '''\n#     return 1 if number == 0 else int(number % 10) * product_digits(int(number / 10))\n\ndef product_digits(number: int) -> int:  \n    '''\n    Calculates product of digits\n    :param number: int input, number on which product is being calculated\n    :returns: int, product of digits\n    '''\n    number = abs(number)\n    if number == 0:\n        return 0\n    product:int = 1\n    while number != 0:\n        product *= (number % 10)\n        number //= 10\n    return product\n\nprint(product_digits(0))\nprint(product_digits(4))\nprint(product_digits(123))\nprint(product_digits(1203))\nprint(product_digits(-1232))",
      "metadata": {
        "colab": {
          "base_uri": "https://localhost:8080/"
        },
        "id": "tiORcJoOLIM2",
        "outputId": "714d1570-126b-4738-b865-4dd299eb711d",
        "trusted": true
      },
      "execution_count": 2,
      "outputs": [
        {
          "name": "stdout",
          "text": "0\n4\n6\n0\n12\n",
          "output_type": "stream"
        }
      ]
    },
    {
      "cell_type": "markdown",
      "source": "2 (1 punct). Scrieti o functie care determina daca un sir de caractere - presupus a fi scris cu litere mici - este sau nu palindrom. Un palindrom este un sir de caractere care citit de la dreapta la stanga are acelasi continut ca si citirea de la stanga la dreapta. In functie de valoarea unui indicator boolean `ignore_spaces`, avand valoarea implicita `False`, se vor ignora (elimina) sau nu spatiile. Daca sirul dat ca parametru nu are toate literele mici, se va arunca exceptie; [documentatie pentru lucrul cu exceptii in Python](https://www.w3schools.com/python/gloss_python_raise.asp).\n\nExemple:\n\n* `is_palindrome('ele fac cafele', ignore_spaces=True)` returneaza `True`; `is_palindrome('ele fac cafele')` returneaza `False`. `is_palindrome('Ele fac cafele')` arunca o exceptie, indiferent de valoarea lui `ignore_spaces`.\n*  `is_palindrome('abaac')` returneaza `False`",
      "metadata": {
        "id": "MciFqMG5K8WA"
      }
    },
    {
      "cell_type": "code",
      "source": "def is_palindrome(input: str, ignore_spaces: bool = False) -> bool:\n    '''\n    Checks if a string is a palindrome\n    :param input: string input\n    :param ignore_spaces: bool input, implicit value is False\n    :returns: True if :param input: is a palindrome, False otherwise\n    :raises Exception: raises an exception if input isn't lowercase\n    '''\n    if not input.islower():\n        raise Exception(\"String isn't lowercase\")\n    if ignore_spaces:\n        input = input.replace(\" \", \"\");\n    return input == input[::-1]\n\ndef is_palindrome_main(input: str, ignore_spaces: bool = False) -> None:\n    '''\n    Checks if a string is a palindrome and prints result (exception handling method)\n    :param input: string input\n    :param ignore_spaces: bool input, implicit value is False\n    :returns: nothing\n    '''\n    try:\n        print(is_palindrome(input, ignore_spaces))\n    except Exception as exc:\n        print(exc)\n\nis_palindrome_main('ele fac cafele', ignore_spaces=True)\nis_palindrome_main('Ele fac cafele')\nis_palindrome_main('abaac')",
      "metadata": {
        "colab": {
          "base_uri": "https://localhost:8080/"
        },
        "id": "FJrQN11UMzSm",
        "outputId": "5194479c-b746-48a4-cc1b-9b3702e551aa",
        "trusted": true
      },
      "execution_count": 3,
      "outputs": [
        {
          "name": "stdout",
          "text": "True\nString isn't lowercase\nFalse\n",
          "output_type": "stream"
        }
      ]
    },
    {
      "cell_type": "markdown",
      "source": "3 (1 punct). Se da un fisier de tip text, pentru care se vor considera doar acele linii din fisier care contin exact un numar intreg. Sa se scrie functii care:\n* returneaza doar lista numerelor 'valide' - folosita mai departe ca functie auxiliara;\n* determina daca numerele din fisier sunt sau nu distincte, returnand `True` respectiv `False`;\n* returneaza cele mai mari 3 numere din fisier, in ordine descrescatoare;\n* produce lista tuturor tripletelor distincte `(x, y, z)` cu `(x < y < z)`, unde `x, y, z` sunt valori din fisier.\n\nExemplu: pentru continutul de fisier\n```\n#1\n2\n4\n-4\n3\n-3\n10\n2\nabc\n100 1\n```\nfunctiile vor returna, respectiv:\n* `[2, 4, -4, 3, -3, 10, 2]`\n* `False`\n* `[10, 4, 3]`\n* ```[(-4, -3, 2), (-4, -3, 3), (-4, -3, 4), (-4, -3, 10), (-4, 2, 3), (-4, 2, 4), (-4, 2, 10), (-4, 3, 4), (-4, 3, 10), (-4, 4, 10), (-3, 2, 3), (-3, 2, 4), (-3, 2, 10), (-3, 3, 4), (-3, 3, 10), (-3, 4, 10), (2, 3, 4), (2, 3, 10), (2, 4, 10), (3, 4, 10)]```\n\nPentru lucrul cu fisiere, puteti consulta, de exemplu: https://www.w3schools.com/python/python_file_open.asp, https://www.geeksforgeeks.org/reading-writing-text-files-python/.",
      "metadata": {
        "id": "kwuL8VZPK8WA"
      }
    },
    {
      "cell_type": "code",
      "source": "def write_numbers(input:List[int]) -> None:\n    '''\n    Writes every element of list on new line\n    :param input: List[int] input, elements to be written\n    :returns: nothing\n    '''\n    f = open(\"input_exercise_3.txt\", \"w\")\n    for x in input:\n        f.write(f\"{x}\\n\")\n\ninput:List[int] = [\"# 1\", \"2\", \"4\", \"-4\", \"3\", \"-3\", \"10\", \"2\", \"abc\", \"100 1\"]\nwrite_numbers(input)",
      "metadata": {
        "id": "h0Io1kQbovUa",
        "trusted": true
      },
      "execution_count": 4,
      "outputs": []
    },
    {
      "cell_type": "code",
      "source": "def is_number(input: str) -> bool:\n    '''\n    Determines if string is number\n    :param input: string input, string to determine if is number\n    :returns: True if :param input: is a number, False otherwise\n    '''\n    try:\n      temp = int(input)\n      return True\n    except:\n      return False\n\ndef read_numbers(file_name: str) -> List[int]:\n    '''\n    Reads numbers from file\n    :param file_name: string input, file name / location\n    :returns: List[int], list of numbers from file\n    '''\n    numbers: List[int] = []\n    file = open(file_name, \"r\")\n    temp = file.read().splitlines()\n    return [int(x) for x in temp if is_number(x)]\n\ndef has_distinctive(input: List[int]) -> bool:\n    '''\n    Determines if list has distinctiv elements\n    :param input: List[int] input, list of numbers\n    :returns: False if :param input: has duplicates, True otherwise\n    '''\n    return len(input) == len(set(input))\n\ndef three_biggest_numbers_desc(input: List[int]) -> List[int]:\n    '''\n    Returns the three biggest numbers sorted in descending order\n    :param input: List[int] input, list of numbers\n    :returns: List[int], list of the three biggest numbers sorted in descending order\n    '''\n    sorted_input: List[int] = sorted(input, reverse=True)\n    return sorted_input[0:3]\n\ndef ascending_three_numbers(input: List[int]) -> List[Tuple[int, int, int]]:\n    '''\n    Returns list with tuples (x, y, z) where x < y < z\n    :param input: List[int] input, list of numbers\n    :returns: List[int], list with tuples (x, y, z) where x < y < z\n    '''\n    sorted_input: List[int] = sorted(list(set(input)))\n    size: int = len(sorted_input)\n    tuples: List[Tuple[int, int, int]] = []\n    for i in range(0, size):\n        for j in range(i + 1, size):\n            for k in range(j + 1, size):\n                if sorted_input[i] < sorted_input[j] and sorted_input[j] < sorted_input[k]:\n                    tuples.append((sorted_input[i], sorted_input[j], sorted_input[k]))\n    return tuples\n\nnumbers: List[int] = read_numbers(\"input_exercise_3.txt\")\nprint(numbers)\nprint(has_distinctive(numbers))\nprint(three_biggest_numbers_desc(numbers))\nprint(ascending_three_numbers(numbers))",
      "metadata": {
        "colab": {
          "base_uri": "https://localhost:8080/"
        },
        "id": "s60_cvF5WTsh",
        "outputId": "b71c6bd1-9b64-4594-f339-f54301548f45",
        "trusted": true
      },
      "execution_count": 5,
      "outputs": [
        {
          "name": "stdout",
          "text": "[2, 4, -4, 3, -3, 10, 2]\nFalse\n[10, 4, 3]\n[(-4, -3, 2), (-4, -3, 3), (-4, -3, 4), (-4, -3, 10), (-4, 2, 3), (-4, 2, 4), (-4, 2, 10), (-4, 3, 4), (-4, 3, 10), (-4, 4, 10), (-3, 2, 3), (-3, 2, 4), (-3, 2, 10), (-3, 3, 4), (-3, 3, 10), (-3, 4, 10), (2, 3, 4), (2, 3, 10), (2, 4, 10), (3, 4, 10)]\n",
          "output_type": "stream"
        }
      ]
    },
    {
      "cell_type": "markdown",
      "source": "4. Sa se scrie o functie `sum_divisors_digits`care preia un numar natural strict pozitiv $n$ si returneaza suma cifrelor divizorilor sai. Intr-o alta functie `black_hole` se apeleaza in mod repetat `sum_divisors_digits` pe numerele rezultate, pana cand se atinge un numar maxim de iteratii (implicit 1000) sau se ajunge la numarul 15. Puteti crea alte  functii auxiliare. \n\nExemplul 1: se pleaca de la $n=15$; divizorii sunt $1, 3, 5, 15$; suma cifrelor divizorilor este $1+3+5+1+5=15$, acesta fiind rezultatul apelului `sum_divisors_digits(15)`. Functia `black_hole` se opreste deci dupa un singur apel al functiei `sum_divisors_digits`.\n\nExemplul 2: se pleaca de la $n=21$; divizorii sunt $1, 3, 7, 21$ iar `sum_divisors_digits(21)` este $1+3+7+2+1=14$; se reia in functia `black_hole` apelul functiei `sum_divisors_digits` pana la epuizarea numarului de apeluri sau potentiala stabilizare in 15.",
      "metadata": {
        "id": "SeuFRUjzK8WB"
      }
    },
    {
      "cell_type": "code",
      "source": "def sum_digits(number: int) -> int:  \n    '''\n    Calculates sum of digits\n    :param number: int input, number on which sum is being calculated\n    :returns: int, sum of digits\n    '''\n    return 0 if number == 0 else int(number % 10) + sum_digits(number // 10)\n\ndef sum_divisors_digits(number: int) -> int:\n    '''\n    Calculates sum of divisors digits\n    :param number: int input\n    :returns: int\n    '''\n    divisors = [x for x in range(1, number + 1) if number % x == 0]\n    return sum([sum_digits(x) for x in divisors])\n\ndef black_hole(number: int) -> None:\n    '''\n    Executes sum_divisors_digits function until it reaches value 15 or 1000 iterations\n    :param number: int input > 0\n    :returns: None\n    '''\n    iterations: int = 1\n    result: int = sum_divisors_digits(number)\n    while result != 15 and iterations != 1000:\n        result = sum_divisors_digits(result)\n        iterations += 1\n    print(f\"Iterations for {number}: {iterations}\")\n    \nblack_hole(15)\nblack_hole(21)",
      "metadata": {
        "colab": {
          "base_uri": "https://localhost:8080/"
        },
        "id": "9b5q7JjSrG6g",
        "outputId": "d0350226-6d1d-42e2-e382-cd85ff68f61f",
        "trusted": true
      },
      "execution_count": 6,
      "outputs": [
        {
          "name": "stdout",
          "text": "Iterations for 15: 1\nIterations for 21: 2\n",
          "output_type": "stream"
        }
      ]
    },
    {
      "cell_type": "markdown",
      "source": "## Exercitii cu NumPy\n\nIn rezolvarea exercitiilor de mai jos se va folosi cod *vectorizat* si collection comprehension (preferabil insa doar cod vectorizat). Puteti folosi functii NumPy.",
      "metadata": {
        "id": "lc_a1nq8K8WD"
      }
    },
    {
      "cell_type": "code",
      "source": "import numpy as np",
      "metadata": {
        "id": "qm6VmhmJsuwh",
        "trusted": true
      },
      "execution_count": 7,
      "outputs": []
    },
    {
      "cell_type": "markdown",
      "source": "1. (1 punct) Scrieti o functie care pentru un vector dat $a$ dat de $n$ componente, returneaza un vector suma perechilor de elemente: $b[i] = a[i]+a[i+1], 0 \\le i \\le n-2$. Scrieti apoi o alta functie care face acelasi lucru pentru o matrice, pe linii sau pe coloane, in functie de un parametru.\n\nExemple: \n* `a = np.array([1, 2, 10, 3])`; `sum_pairs_vector(a)` va returna vectorul NumPy cu continutul `(3, 12, 13)`.\n* `a  = np.array([[1, 2, 3], [40, 50, 60]])`; `sum_pairs_matrix(a, on='columns')` returneaza o matrice cu o singura linie, `[[41, 52, 63]]`. `sum_pairs_matrix(a, on='rows)` returneaza matricea `[[3, 5], [90, 110]]`. ",
      "metadata": {
        "id": "OHlhE_JXK8WE"
      }
    },
    {
      "cell_type": "code",
      "source": "def sum_pairs_vector(vector:np.array) -> np.array:\n    '''\n    Determines new vector based on the following: b[i] = a[i] + a[i+1], 0 <= i <= n-2\n    :param vector: np.array input, vector on which above function is being applied\n    :return: determined vector defined as NumPy array\n    '''\n    return np.add(vector[:-1], vector[1:])\n\ndef sum_pairs_matrix(matrix: np.array, on: str = 'columns')-> np.array:\n    '''\n    Determines new matrix based on the following: b[i] = a[i] + a[i+1], 0 <= i <= n-2 for rows and columns\n    :param matrix: np.array input, matrix on witch above function is being applied\n    :param on: string input which defines axis, 'rows' or 'columns'\n    :returns: determined matrix defined as NumPy array\n    '''\n    if on == 'rows':\n        transposed:np.array = matrix.transpose()\n        return np.add(transposed[:-1], transposed[1:]).transpose()\n    elif on == 'columns':\n        return np.add(matrix[:-1], matrix[1:])\n    else:\n      return np.array([])\n\nvector:np.array = np.array([1, 2, 10, 3])\nprint(\"Sum vector:\", sum_pairs_vector(vector))\n\nmatrix:np.array = np.array([[1, 2, 3], [40, 50, 60]])\nprint(\"Sum matrix rows:\", sum_pairs_matrix(matrix, 'rows'))\nprint(\"Sum matrix columns:\", sum_pairs_matrix(matrix, 'columns'))",
      "metadata": {
        "id": "Ay6_A3brsxFo",
        "colab": {
          "base_uri": "https://localhost:8080/"
        },
        "outputId": "396ed50d-8fb9-4efd-8e0a-779123e94566",
        "trusted": true
      },
      "execution_count": 8,
      "outputs": [
        {
          "name": "stdout",
          "text": "Sum vector: [ 3 12 13]\nSum matrix rows: [[  3   5]\n [ 90 110]]\nSum matrix columns: [[41 52 63]]\n",
          "output_type": "stream"
        }
      ]
    },
    {
      "cell_type": "markdown",
      "source": "2. (1 punct) Sa se scrie o functie care primeste o matrice de numere si determina daca numarul de valori aflate in intervalul $(-lim, lim)$ ($lim$ > 0, parametru al functiei, numar real) este peste un procent $p$, parametru dat. Functia va returna valoare booleana. ",
      "metadata": {
        "id": "SZG0nk6SK8WF"
      }
    },
    {
      "cell_type": "code",
      "source": "def percentage_in_lim(matrix:np.array, lim:float) -> float:\n    '''\n    Determines the percentage of elements inside (-lim, lim) where lim > 0\n    :param matrix: numpy matrix on which percentage is being calculated\n    :param lim: integer that determines interval\n    :returns: floating point value that represents percentage\n    :raises Exception: raises an exception if :param lim: isn't > 0\n    '''\n    if lim <= 0:\n        raise Exception(\"'lim' cannot be negative or zero\")\n    count_in_lim:int = matrix[np.logical_and(matrix > -lim, matrix < lim)].size\n    return count_in_lim / matrix.size * 100\n\ndef percentage_in_lim_greater(matrix:np.array, lim:float, percentage:float) -> float:\n    '''\n    Determines if percentage of elements inside (-lim, lim) where lim > 0 is greater than given percentage\n    :param matrix: NumPy matrix on which percentage is being calculated\n    :param lim: integer that determines interval\n    :param percentage: floating point percentage value given by user\n    :returns: True if calculated percentage is greater than given percentage, otherwise False\n    :raises Exception: raises an exception if :param percentage: is invalid (<= 0 and > 100)\n    '''\n    if percentage <= 0 or percentage > 100:\n        raise Exception(\"Value for 'percentage' is invalid\")\n    return  percentage_in_lim(matrix, lim) > percentage\n\nmatrix = np.array([[1, 2, 3], [4, 5, 6]])\n\nprint(percentage_in_lim_greater(matrix, 3, 33))",
      "metadata": {
        "id": "HCcKlv04s_2a",
        "colab": {
          "base_uri": "https://localhost:8080/"
        },
        "outputId": "ea5213cd-5a1e-44ce-c9d3-d02ce4cb1bb4",
        "trusted": true
      },
      "execution_count": 9,
      "outputs": [
        {
          "name": "stdout",
          "text": "True\n",
          "output_type": "stream"
        }
      ]
    },
    {
      "cell_type": "markdown",
      "source": "3. (1 punct) Sa se scrie o functie care gaseste pozitiile minimelor locale dintr-un vector numpy. Un minim local este o valoare care are in vecinii imediati (indicele curent $\\pm 1$, fara a iesi din vector) valori strict mai mari decat ea. \n\nExemplu: `[-1, 3, -7, 1, 2, 6, 0, 1]` -> `[-1, -7, 0]`.",
      "metadata": {
        "id": "Ey0mq-5-K8WF"
      }
    },
    {
      "cell_type": "code",
      "source": "def min_local(vector: np.array) -> np.array:\n    '''\n    Determines positions of minimum local values in NumPy array\n    :param vector: NumPy array input\n    :returns: NumPy array\n    '''\n    return np.array([vector[pos] for pos in range(0, len(vector))\\\n                     if (vector[pos] < vector[pos - 1] if pos - 1 > 0 else True)\\\n                     and (vector[pos] < vector[pos + 1] if pos + 1 < len(vector) else True)])\n\nvector:np.array = np.array([-1, 3, -7, 1, 2, 6, 0, 1])\nprint(min_local(vector))",
      "metadata": {
        "colab": {
          "base_uri": "https://localhost:8080/"
        },
        "id": "BcZUvw8Xs_f-",
        "outputId": "b5081b8c-b115-409d-ef56-650390fbb228",
        "trusted": true
      },
      "execution_count": 10,
      "outputs": [
        {
          "name": "stdout",
          "text": "[-1 -7  0]\n",
          "output_type": "stream"
        }
      ]
    },
    {
      "cell_type": "markdown",
      "source": "4. (1 punct) Sa se scrie o functie care spune daca o matrice patratica este magica: suma pe fiecare linie, pe fiecare coloana, suma elementelor de pe fiecare diagonala este acelasi numar.\n\nExemplu de matrice magica:\n```\n11\t24\t7\t20\t3\n4\t12\t25\t8\t16\n17\t5\t13\t21\t9\n10\t18\t1\t14\t22\n23\t6\t19\t2\t15\n```",
      "metadata": {
        "id": "f6krKqPWK8WG"
      }
    },
    {
      "cell_type": "code",
      "source": "def is_magic_matrix(matrix: np.array) -> bool:\n    '''\n    Determines if given matrix is magic\n    :param matrix: NumPy matrix\n    :returns: True if given matrix is magic, otherwise False\n    '''\n    values:np.array = np.array([])\n    # concatenate row values\n    values = np.append(values, matrix.sum(axis=1))\n    # concatenate column values\n    values = np.append(values, matrix.sum(axis=0))\n    # append primary diagonal value\n    np.append(values, np.trace(matrix))\n    # append secondary diagonal value\n    np.append(values, np.trace(np.flip(matrix)))\n    # check that all values are the same\n    return np.unique(values).size == 1\n\nmatrix = np.array([ [11, 24, 7, 20, 3]\n    , [4, 12, 25, 8, 16]\n    , [17, 5, 13, 21, 9]\n    , [10, 18, 1, 14, 22]\n    , [23, 6, 19, 2, 15]\n    ])\n\nprint(is_magic_matrix(matrix))",
      "metadata": {
        "colab": {
          "base_uri": "https://localhost:8080/"
        },
        "id": "FWC8wlMxuek4",
        "outputId": "e533aae6-6801-4071-de46-e36d2623ea36",
        "trusted": true
      },
      "execution_count": 11,
      "outputs": [
        {
          "name": "stdout",
          "text": "True\n",
          "output_type": "stream"
        }
      ]
    },
    {
      "cell_type": "code",
      "source": "",
      "metadata": {
        "id": "nydTlqMpvE28"
      },
      "execution_count": null,
      "outputs": []
    }
  ]
}