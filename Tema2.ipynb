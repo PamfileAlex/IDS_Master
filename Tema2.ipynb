{
 "cells": [
  {
   "cell_type": "markdown",
   "metadata": {},
   "source": [
    "# Laborator 2\n",
    "\n",
    "Continut:\n",
    "1. Exercitii cu functii\n",
    "1. Exercitii cu NumPy\n",
    "\n",
    "Precizari:\n",
    "1. Studentii se pot consulta reciproc, dar rezolvarile vor fi individuale. Daca la o problema nu se pot furniza explicatii legate de rezolvare, nota pentru intreaga tema va fi 0. \n",
    "1. Temele se predau in activitatea de elearning asociata, pana in 21 octombrie 2022 ora 23. Se acorda 2 puncte din oficiu.\n",
    "1. Tema va fi implementata intr-un singur fisier Jupyter Notebook, avand numele: Tema2_IDS_nume_prenume.ipynb. Exemplu: Tema2_IDS_Popescu_Ioana.ipynb\n",
    "1. Se vor folosi type annotations pentru variabile, parametrii functiilor, tipuri de retur. Se vor folosi docstrings pentru functii, in limba romana sau engleza. Neindeplinirea acestei cerinte duce la injumatatirea punctajului pe exercitiul in cauza."
   ]
  },
  {
   "cell_type": "markdown",
   "metadata": {},
   "source": [
    "Pentru docstring exista 3 stiluri de lucru. Exemple scurte sunt la [https://stackoverflow.com/questions/3898572/what-is-the-standard-python-docstring-format](https://stackoverflow.com/questions/3898572/what-is-the-standard-python-docstring-format). Se va folosi stilul reST, recomandat de [PEP287](https://www.python.org/dev/peps/pep-0287/)."
   ]
  },
  {
   "cell_type": "markdown",
   "metadata": {
    "ExecuteTime": {
     "end_time": "2019-03-05T18:34:32.294814Z",
     "start_time": "2019-03-05T18:34:32.283406Z"
    }
   },
   "source": [
    "## Exercitii cu functii"
   ]
  },
  {
   "cell_type": "markdown",
   "metadata": {},
   "source": [
    "1 (1 punct). Scrieti o functie care primeste un numar intreg si returneaza produsul cifrelor sale. "
   ]
  },
  {
   "cell_type": "markdown",
   "metadata": {},
   "source": [
    "2 (1 punct). Scrieti o functie care determina daca un sir de caractere - presupus a fi scris cu litere mici - este sau nu palindrom. Un palindrom este un sir de caractere care citit de la dreapta la stanga are acelasi continut ca si citirea de la stanga la dreapta. In functie de valoarea unui indicator boolean `ignore_spaces`, avand valoarea implicita `False`, se vor ignora (elimina) sau nu spatiile. Daca sirul dat ca parametru nu are toate literele mici, se va arunca exceptie; [documentatie pentru lucrul cu exceptii in Python](https://www.w3schools.com/python/gloss_python_raise.asp).\n",
    "\n",
    "Exemple:\n",
    "\n",
    "* `is_palindrome('ele fac cafele', ignore_spaces=True)` returneaza `True`; `is_palindrome('ele fac cafele')` returneaza `False`. `is_palindrome('Ele fac cafele')` arunca o exceptie, indiferent de valoarea lui `ignore_spaces`.\n",
    "*  `is_palindrome('abaac')` returneaza `False`"
   ]
  },
  {
   "cell_type": "markdown",
   "metadata": {},
   "source": [
    "3 (1 punct). Se da un fisier de tip text, pentru care se vor considera doar acele linii din fisier care contin exact un numar intreg. Sa se scrie functii care:\n",
    "* returneaza doar lista numerelor 'valide' - folosita mai departe ca functie auxiliara;\n",
    "* determina daca numerele din fisier sunt sau nu distincte, returnand `True` respectiv `False`;\n",
    "* returneaza cele mai mari 3 numere din fisier, in ordine descrescatoare;\n",
    "* produce lista tuturor tripletelor distincte `(x, y, z)` cu `(x < y < z)`, unde `x, y, z` sunt valori din fisier.\n",
    "\n",
    "Exemplu: pentru continutul de fisier\n",
    "```\n",
    "#1\n",
    "2\n",
    "4\n",
    "-4\n",
    "3\n",
    "-3\n",
    "10\n",
    "2\n",
    "abc\n",
    "100 1\n",
    "```\n",
    "functiile vor returna, respectiv:\n",
    "* `[2, 4, -4, 3, -3, 10, 2]`\n",
    "* `False`\n",
    "* `[10, 4, 3]`\n",
    "* ```[(-4, -3, 2), (-4, -3, 3), (-4, -3, 4), (-4, -3, 10), (-4, 2, 3), (-4, 2, 4), (-4, 2, 10), (-4, 3, 4), (-4, 3, 10), (-4, 4, 10), (-3, 2, 3), (-3, 2, 4), (-3, 2, 10), (-3, 3, 4), (-3, 3, 10), (-3, 4, 10), (2, 3, 4), (2, 3, 10), (2, 4, 10), (3, 4, 10)]```\n",
    "\n",
    "Pentru lucrul cu fisiere, puteti consulta, de exemplu: https://www.w3schools.com/python/python_file_open.asp, https://www.geeksforgeeks.org/reading-writing-text-files-python/."
   ]
  },
  {
   "cell_type": "markdown",
   "metadata": {},
   "source": [
    "4. Sa se scrie o functie `sum_divisors_digits`care preia un numar natural strict pozitiv $n$ si returneaza suma cifrelor divizorilor sai. Intr-o alta functie `black_hole` se apeleaza in mod repetat `sum_divisors_digits` pe numerele rezultate, pana cand se atinge un numar maxim de iteratii (implicit 1000) sau se ajunge la numarul 15. Puteti crea alte  functii auxiliare. \n",
    "\n",
    "Exemplul 1: se pleaca de la $n=15$; divizorii sunt $1, 3, 5, 15$; suma cifrelor divizorilor este $1+3+5+1+5=15$, acesta fiind rezultatul apelului `sum_divisors_digits(15)`. Functia `black_hole` se opreste deci dupa un singur apel al functiei `sum_divisors_digits`.\n",
    "\n",
    "Exemplul 2: se pleaca de la $n=21$; divizorii sunt $1, 3, 7, 21$ iar `sum_divisors_digits(21)` este $1+3+7+2+1=14$; se reia in functia `black_hole` apelul functiei `sum_divisors_digits` pana la epuizarea numarului de apeluri sau potentiala stabilizare in 15."
   ]
  },
  {
   "cell_type": "markdown",
   "metadata": {},
   "source": [
    "## Exercitii cu NumPy\n",
    "\n",
    "In rezolvarea exercitiilor de mai jos se va folosi cod *vectorizat* si collection comprehension (preferabil insa doar cod vectorizat). Puteti folosi functii NumPy."
   ]
  },
  {
   "cell_type": "markdown",
   "metadata": {},
   "source": [
    "1. (1 punct) Scrieti o functie care pentru un vector dat $a$ dat de $n$ componente, returneaza un vector suma perechilor de elemente: $b[i] = a[i]+a[i+1], 0 \\le i \\le n-2$. Scrieti apoi o alta functie care face acelasi lucru pentru o matrice, pe linii sau pe coloane, in functie de un parametru.\n",
    "\n",
    "Exemple: \n",
    "* `a = np.array([1, 2, 10, 3])`; `sum_pairs_vector(a)` va returna vectorul NumPy cu continutul `(3, 12, 13)`.\n",
    "* `a  = np.array([[1, 2, 3], [40, 50, 60]])`; `sum_pairs_matrix(a, on='columns')` returneaza o matrice cu o singura linie, `[[41, 52, 63]]`. `sum_pairs_matrix(a, on='rows)` returneaza matricea `[[3, 5], [90, 110]]`. "
   ]
  },
  {
   "cell_type": "markdown",
   "metadata": {},
   "source": [
    "2. (1 punct) Sa se scrie o functie care primeste o matrice de numere si determina daca numarul de valori aflate in intervalul $(-lim, lim)$ ($lim$ > 0, parametru al functiei, numar real) este peste un procent $p$, parametru dat. Functia va returna valoare booleana. "
   ]
  },
  {
   "cell_type": "markdown",
   "metadata": {},
   "source": [
    "3. (1 punct) Sa se scrie o functie care gaseste pozitiile minimelor locale dintr-un vector numpy. Un minim local este o valoare care are in vecinii imediati (indicele curent $\\pm 1$, fara a iesi din vector) valori strict mai mari decat ea. \n",
    "\n",
    "Exemplu: `[-1, 3, -7, 1, 2, 6, 0, 1]` -> `[-1, -7, 0]`."
   ]
  },
  {
   "cell_type": "markdown",
   "metadata": {},
   "source": [
    "4. (1 punct) Sa se scrie o functie care spune daca o matrice patratica este magica: suma pe fiecare linie, pe fiecare coloana, suma elementelor de pe fiecare diagonala este acelasi numar.\n",
    "\n",
    "Exemplu de matrice magica:\n",
    "```\n",
    "11\t24\t7\t20\t3\n",
    "4\t12\t25\t8\t16\n",
    "17\t5\t13\t21\t9\n",
    "10\t18\t1\t14\t22\n",
    "23\t6\t19\t2\t15\n",
    "```"
   ]
  }
 ],
 "metadata": {
  "kernelspec": {
   "display_name": "Python 3 (ipykernel)",
   "language": "python",
   "name": "python3"
  },
  "language_info": {
   "codemirror_mode": {
    "name": "ipython",
    "version": 3
   },
   "file_extension": ".py",
   "mimetype": "text/x-python",
   "name": "python",
   "nbconvert_exporter": "python",
   "pygments_lexer": "ipython3",
   "version": "3.9.13"
  },
  "toc": {
   "base_numbering": 1,
   "nav_menu": {},
   "number_sections": true,
   "sideBar": true,
   "skip_h1_title": false,
   "title_cell": "Table of Contents",
   "title_sidebar": "Contents",
   "toc_cell": false,
   "toc_position": {},
   "toc_section_display": true,
   "toc_window_display": false
  },
  "varInspector": {
   "cols": {
    "lenName": 16,
    "lenType": 16,
    "lenVar": 40
   },
   "kernels_config": {
    "python": {
     "delete_cmd_postfix": "",
     "delete_cmd_prefix": "del ",
     "library": "var_list.py",
     "varRefreshCmd": "print(var_dic_list())"
    },
    "r": {
     "delete_cmd_postfix": ") ",
     "delete_cmd_prefix": "rm(",
     "library": "var_list.r",
     "varRefreshCmd": "cat(var_dic_list()) "
    }
   },
   "types_to_exclude": [
    "module",
    "function",
    "builtin_function_or_method",
    "instance",
    "_Feature"
   ],
   "window_display": false
  }
 },
 "nbformat": 4,
 "nbformat_minor": 2
}
